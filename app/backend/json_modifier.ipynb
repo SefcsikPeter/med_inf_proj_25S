{
 "cells": [
  {
   "cell_type": "markdown",
   "id": "d69ec908",
   "metadata": {},
   "source": [
    "# reset progress of stories"
   ]
  },
  {
   "cell_type": "code",
   "execution_count": 4,
   "id": "663c751d",
   "metadata": {},
   "outputs": [
    {
     "name": "stdout",
     "output_type": "stream",
     "text": [
      "All story progress values have been reset to 0.\n"
     ]
    }
   ],
   "source": [
    "import json\n",
    "\n",
    "with open(\"stories.json\", \"r\", encoding=\"utf-8\") as file:\n",
    "    stories = json.load(file)\n",
    "\n",
    "for story in stories:\n",
    "    story[\"progress\"] = 0\n",
    "\n",
    "with open(\"stories.json\", \"w\", encoding=\"utf-8\") as file:\n",
    "    json.dump(stories, file, indent=2, ensure_ascii=False)\n",
    "\n",
    "print(\"All story progress values have been reset to 0.\")"
   ]
  },
  {
   "cell_type": "markdown",
   "id": "f571dfed",
   "metadata": {},
   "source": [
    "# reset progress of quizzes"
   ]
  },
  {
   "cell_type": "code",
   "execution_count": 1,
   "id": "c27a9c64",
   "metadata": {},
   "outputs": [
    {
     "name": "stdout",
     "output_type": "stream",
     "text": [
      "All quizzes have been reset (progress=0, passed=False).\n"
     ]
    }
   ],
   "source": [
    "import json\n",
    "\n",
    "with open(\"quizzes.json\", \"r\", encoding=\"utf-8\") as file:\n",
    "    quizzes = json.load(file)\n",
    "\n",
    "for quiz in quizzes:\n",
    "    quiz[\"progress\"] = 0\n",
    "    quiz[\"passed\"] = False\n",
    "\n",
    "with open(\"quizzes.json\", \"w\", encoding=\"utf-8\") as file:\n",
    "    json.dump(quizzes, file, indent=2, ensure_ascii=False)\n",
    "\n",
    "print(\"All quizzes have been reset (progress=0, passed=False).\")\n"
   ]
  },
  {
   "cell_type": "markdown",
   "id": "caff9ea1",
   "metadata": {},
   "source": [
    "# make all quizzes passed"
   ]
  },
  {
   "cell_type": "code",
   "execution_count": 3,
   "id": "6b50cae5",
   "metadata": {},
   "outputs": [
    {
     "name": "stdout",
     "output_type": "stream",
     "text": [
      "All quizzes set as passed.\n"
     ]
    }
   ],
   "source": [
    "import json\n",
    "\n",
    "with open(\"quizzes.json\", \"r\", encoding=\"utf-8\") as file:\n",
    "    quizzes = json.load(file)\n",
    "\n",
    "for quiz in quizzes:\n",
    "    quiz[\"passed\"] = True\n",
    "\n",
    "with open(\"quizzes.json\", \"w\", encoding=\"utf-8\") as file:\n",
    "    json.dump(quizzes, file, indent=2, ensure_ascii=False)\n",
    "\n",
    "print(\"All quizzes set as passed.\")\n"
   ]
  },
  {
   "cell_type": "markdown",
   "id": "41669145",
   "metadata": {},
   "source": [
    "# list all story ids and their titles"
   ]
  },
  {
   "cell_type": "code",
   "execution_count": 2,
   "id": "272965e1",
   "metadata": {},
   "outputs": [
    {
     "name": "stdout",
     "output_type": "stream",
     "text": [
      "0 What is an Epidemic?\n",
      "1 Motivation for Epidemic Visualization\n",
      "2 Line Plots\n",
      "3 Infection Trees\n",
      "4 Motivation for Epidemic Modelling\n",
      "5 SIR\n",
      "6 Radial Trees\n",
      "7 Agent-Based Models\n",
      "8 Multi-Line Plots\n"
     ]
    }
   ],
   "source": [
    "import json\n",
    "\n",
    "with open(\"stories.json\", \"r\", encoding=\"utf-8\") as file:\n",
    "    stories = json.load(file)\n",
    "\n",
    "for story in stories:\n",
    "    print(f\"{story['id']} {story['title']}\")\n"
   ]
  },
  {
   "cell_type": "markdown",
   "id": "13a56181",
   "metadata": {},
   "source": [
    "# set specific quizzes as passed and all others as not passed"
   ]
  },
  {
   "cell_type": "code",
   "execution_count": 7,
   "id": "fd7701ea",
   "metadata": {},
   "outputs": [
    {
     "name": "stdout",
     "output_type": "stream",
     "text": [
      "Quizzes with IDs [0, 1] marked as passed.\n"
     ]
    }
   ],
   "source": [
    "import json\n",
    "\n",
    "# ADD QUIZ IDS HERE\n",
    "passed_ids = [0, 1]\n",
    "\n",
    "with open(\"quizzes.json\", \"r\", encoding=\"utf-8\") as file:\n",
    "    quizzes = json.load(file)\n",
    "\n",
    "for quiz in quizzes:\n",
    "    if quiz[\"id\"] in passed_ids:\n",
    "        quiz[\"passed\"] = True\n",
    "    else:\n",
    "        quiz[\"passed\"] = False\n",
    "\n",
    "with open(\"quizzes.json\", \"w\", encoding=\"utf-8\") as file:\n",
    "    json.dump(quizzes, file, indent=2, ensure_ascii=False)\n",
    "\n",
    "print(f\"Quizzes with IDs {passed_ids} marked as passed.\")"
   ]
  },
  {
   "cell_type": "code",
   "execution_count": null,
   "id": "de07449e",
   "metadata": {},
   "outputs": [],
   "source": []
  }
 ],
 "metadata": {
  "kernelspec": {
   "display_name": "Python 3",
   "language": "python",
   "name": "python3"
  },
  "language_info": {
   "codemirror_mode": {
    "name": "ipython",
    "version": 3
   },
   "file_extension": ".py",
   "mimetype": "text/x-python",
   "name": "python",
   "nbconvert_exporter": "python",
   "pygments_lexer": "ipython3",
   "version": "3.12.9"
  }
 },
 "nbformat": 4,
 "nbformat_minor": 5
}
