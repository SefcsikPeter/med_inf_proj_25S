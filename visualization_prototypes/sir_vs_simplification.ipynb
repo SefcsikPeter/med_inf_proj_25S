{
 "cells": [
  {
   "cell_type": "code",
   "execution_count": 1,
   "metadata": {},
   "outputs": [],
   "source": [
    "from epimodels.continuous.models import SIR\n",
    "from epimodels.discrete.models import SIR as SIRc\n",
    "import matplotlib.pyplot as plt\n",
    "from ipywidgets import interact, FloatSlider"
   ]
  },
  {
   "cell_type": "code",
   "execution_count": 2,
   "metadata": {},
   "outputs": [],
   "source": [
    "def simplified_model(S_0, I_0, R_0, pop, t, beta, gamma):\n",
    "    S = [S_0]\n",
    "    I = [I_0]\n",
    "    R = [R_0]\n",
    "    t_ser = []\n",
    "    for i in range(0, t):\n",
    "        S_to_I = S[i] * I[i] * beta / pop\n",
    "        I_to_R = I[i] * gamma\n",
    "\n",
    "        S.append(S[i] - S_to_I)\n",
    "        I.append(I[i] + S_to_I - I_to_R)\n",
    "        R.append(R[i] + I_to_R)\n",
    "        t_ser.append(i)\n",
    "    t_ser.append(t_ser[-1] + 1)\n",
    "    return [S, I, R, t_ser]\n",
    "\n",
    "def simplified_model_smaller_time_step(S_0, I_0, R_0, pop, t, beta, gamma):\n",
    "    S = [S_0]\n",
    "    I = [I_0]\n",
    "    R = [R_0]\n",
    "    step = 10\n",
    "    t_ser = []\n",
    "    cnt = 0\n",
    "    for i in range(0, t*step):\n",
    "        S_to_I = S[i] * I[i] * beta / pop / pop\n",
    "        I_to_R = I[i] * gamma\n",
    "\n",
    "        S.append(S[i] - S_to_I)\n",
    "        I.append(I[i] + S_to_I - I_to_R)\n",
    "        R.append(R[i] + I_to_R)\n",
    "        t_ser.append(i/step)\n",
    "    t_ser.append(t_ser[-1] + 0.1+step)\n",
    "    return [S, I, R, t_ser]\n",
    "\n",
    "def plot_sim(a):\n",
    "    S, I, R = a[:3]\n",
    "    t = a[3]\n",
    "\n",
    "    plt.plot(t, S, label=\"Susceptible\")\n",
    "    plt.plot(t, I, label=\"Infected\")\n",
    "    plt.plot(t, R, label=\"Recovered\")\n",
    "    plt.xlabel(\"Time\")\n",
    "    plt.ylabel(\"Population\")\n",
    "    plt.legend()\n",
    "    plt.title(\"SIR simplified\")\n",
    "    plt.grid(True)\n",
    "    plt.show()\n",
    "\n",
    "def plot_original(a):\n",
    "    '''same as plot_traces'''\n",
    "    S, I, R = a.y\n",
    "    t = a.t\n",
    "\n",
    "    plt.plot(t, S, label=\"Susceptible\")\n",
    "    plt.plot(t, I, label=\"Infected\")\n",
    "    plt.plot(t, R, label=\"Recovered\")\n",
    "    plt.xlabel(\"Time\")\n",
    "    plt.ylabel(\"Population\")\n",
    "    plt.legend()\n",
    "    plt.title(\"SIR Model Simulation\")\n",
    "    plt.grid(True)\n",
    "    plt.show()\n",
    "\n",
    "def plot_both(o, s):\n",
    "    '''same as plot_traces'''\n",
    "    S_0, I_0, R_0 = o.y\n",
    "    t_0 = o.t\n",
    "\n",
    "    S_1, I_1, R_1 = s[:3]\n",
    "    t_1 = s[3]\n",
    "\n",
    "    plt.plot(t_0, S_0, label=\"Susceptible\")\n",
    "    plt.plot(t_0, I_0, label=\"Infected\")\n",
    "    plt.plot(t_0, R_0, label=\"Recovered\")\n",
    "\n",
    "    plt.plot(t_1, S_1, label=\"Susceptible sim\")\n",
    "    plt.plot(t_1, I_1, label=\"Infected sim\")\n",
    "    plt.plot(t_1, R_1, label=\"Recovered sim\")\n",
    "\n",
    "    plt.xlabel(\"Time\")\n",
    "    plt.ylabel(\"Population\")\n",
    "    plt.legend()\n",
    "    plt.title(\"SIR Model Simulation\")\n",
    "    plt.grid(True)\n",
    "    plt.show()\n",
    "\n",
    "def plot_both_discrete(o, s):\n",
    "    '''same as plot_traces'''\n",
    "    S_0, I_0, R_0 = o['S'], o['I'], o['R']\n",
    "    t_0 = o['time']\n",
    "\n",
    "    S_1, I_1, R_1 = s[:3]\n",
    "    t_1 = s[3]\n",
    "\n",
    "    plt.plot(t_0, S_0, label=\"Susceptible\")\n",
    "    plt.plot(t_0, I_0, label=\"Infected\")\n",
    "    plt.plot(t_0, R_0, label=\"Recovered\")\n",
    "\n",
    "    plt.plot(t_1, S_1, label=\"Susceptible sim\")\n",
    "    plt.plot(t_1, I_1, label=\"Infected sim\")\n",
    "    plt.plot(t_1, R_1, label=\"Recovered sim\")\n",
    "\n",
    "    plt.xlabel(\"Time\")\n",
    "    plt.ylabel(\"Population\")\n",
    "    plt.legend()\n",
    "    plt.title(\"SIR Model Simulation\")\n",
    "    plt.grid(True)\n",
    "    plt.show()\n",
    "\n",
    "def plot_both_epim(o, s):\n",
    "    '''same as plot_traces'''\n",
    "    S_0, I_0, R_0 = o.y\n",
    "    t_0 = o.t\n",
    "\n",
    "    S_1, I_1, R_1 = s['S'], s['I'], s['R']\n",
    "    t_1 = s['time']\n",
    "\n",
    "    plt.plot(t_0, S_0, label=\"Susceptible\")\n",
    "    plt.plot(t_0, I_0, label=\"Infected\")\n",
    "    plt.plot(t_0, R_0, label=\"Recovered\")\n",
    "\n",
    "    plt.plot(t_1, S_1, label=\"Susceptible sim\")\n",
    "    plt.plot(t_1, I_1, label=\"Infected sim\")\n",
    "    plt.plot(t_1, R_1, label=\"Recovered sim\")\n",
    "\n",
    "    plt.xlabel(\"Time\")\n",
    "    plt.ylabel(\"Population\")\n",
    "    plt.legend()\n",
    "    plt.title(\"SIR Model Simulation\")\n",
    "    plt.grid(True)\n",
    "    plt.show()"
   ]
  },
  {
   "cell_type": "code",
   "execution_count": 3,
   "metadata": {},
   "outputs": [],
   "source": [
    "def wrapper_for_inter(beta):\n",
    "    pop = 1000\n",
    "    \n",
    "    I = 1\n",
    "    R = 0\n",
    "    S = pop - I - R\n",
    "    t = 100\n",
    "    beta = beta\n",
    "    gamma = 0.125\n",
    "\n",
    "    original = SIR()\n",
    "    original([S, I, R], [0, t], pop, {'beta': beta, 'gamma': gamma})\n",
    "    o = original.run([S, I, R], [0, t], pop, {'beta': beta, 'gamma': gamma})\n",
    "    s = simplified_model(S, I, R, pop, t, beta, gamma)\n",
    "\n",
    "    plot_both(o, s)"
   ]
  },
  {
   "cell_type": "code",
   "execution_count": 4,
   "metadata": {},
   "outputs": [],
   "source": [
    "def wrapper_for_inter(beta):\n",
    "    pop = 1000\n",
    "    \n",
    "    I = 1\n",
    "    R = 0\n",
    "    S = pop - I - R\n",
    "    t = 100\n",
    "    beta = beta\n",
    "    gamma = 0.125\n",
    "\n",
    "    original = SIR()\n",
    "    original([S, I, R], [0, t], pop, {'beta': beta, 'gamma': gamma})\n",
    "    o = original.run([S, I, R], [0, t], pop, {'beta': beta, 'gamma': gamma})\n",
    "    s = simplified_model(S, I, R, pop, t, beta, gamma)\n",
    "\n",
    "    plot_both(o, s)"
   ]
  },
  {
   "cell_type": "code",
   "execution_count": 5,
   "metadata": {},
   "outputs": [],
   "source": [
    "def wrapper_for_inter_discr(beta, gamma):\n",
    "    pop = 1000\n",
    "    \n",
    "    I = 1\n",
    "    R = 0\n",
    "    S = pop - I - R\n",
    "    t = 100\n",
    "    beta = beta\n",
    "    gamma = gamma\n",
    "\n",
    "    original = SIRc()\n",
    "    original([S, I, R], [0, t], pop, {'beta': beta, 'gamma': gamma})\n",
    "    o = original.run([S, I, R], [0, t], pop, {'beta': beta, 'gamma': gamma})\n",
    "    s = simplified_model(S, I, R, pop, t, beta, gamma)\n",
    "\n",
    "    plot_both_discrete(o, s)"
   ]
  },
  {
   "cell_type": "code",
   "execution_count": 6,
   "metadata": {},
   "outputs": [],
   "source": [
    "def wrapper_for_inter_epim(beta, gamma):\n",
    "    pop = 100000\n",
    "    \n",
    "    I = 1\n",
    "    R = 0\n",
    "    S = pop - I - R\n",
    "    t = 100\n",
    "    beta = beta\n",
    "    gamma = gamma\n",
    "\n",
    "    original = SIR()\n",
    "    original([S, I, R], [0, t], pop, {'beta': beta, 'gamma': gamma})\n",
    "    o = original.run([S, I, R], [0, t], pop, {'beta': beta, 'gamma': gamma})\n",
    "\n",
    "    simpl = SIRc()\n",
    "    simpl([S, I, R], [0, t], pop, {'beta': beta, 'gamma': gamma})\n",
    "    s = simpl.run([S, I, R], [0, t], pop, {'beta': beta, 'gamma': gamma})\n",
    "\n",
    "    plot_both_epim(o, s)"
   ]
  },
  {
   "cell_type": "code",
   "execution_count": 7,
   "metadata": {},
   "outputs": [
    {
     "data": {
      "application/vnd.jupyter.widget-view+json": {
       "model_id": "6d0c2436dc4541d7bc5b45e63c8a95fe",
       "version_major": 2,
       "version_minor": 0
      },
      "text/plain": [
       "interactive(children=(FloatSlider(value=1.0, description='Beta', max=5.0), FloatSlider(value=0.25, description…"
      ]
     },
     "metadata": {},
     "output_type": "display_data"
    },
    {
     "data": {
      "text/plain": [
       "<function __main__.wrapper_for_inter_epim(beta, gamma)>"
      ]
     },
     "execution_count": 7,
     "metadata": {},
     "output_type": "execute_result"
    }
   ],
   "source": [
    "interact(wrapper_for_inter_epim, beta=FloatSlider(value=1.0, min=0, max=5.0, step=0.1, description='Beta'),\n",
    "         gamma=FloatSlider(value=0.25, min=0, max=1, step=0.025, description='Gamma'))"
   ]
  },
  {
   "cell_type": "code",
   "execution_count": null,
   "metadata": {},
   "outputs": [
    {
     "data": {
      "application/vnd.jupyter.widget-view+json": {
       "model_id": "d4f98d9a01794c8aa81db37595c3fc43",
       "version_major": 2,
       "version_minor": 0
      },
      "text/plain": [
       "interactive(children=(FloatSlider(value=1.0, description='Beta', max=5.0, min=0.1), Output()), _dom_classes=('…"
      ]
     },
     "metadata": {},
     "output_type": "display_data"
    },
    {
     "data": {
      "text/plain": [
       "<function __main__.wrapper_for_inter(beta)>"
      ]
     },
     "execution_count": 30,
     "metadata": {},
     "output_type": "execute_result"
    }
   ],
   "source": [
    "interact(wrapper_for_inter, beta=FloatSlider(value=1.0, min=0.1, max=5.0, step=0.1, description='Beta'))"
   ]
  },
  {
   "cell_type": "code",
   "execution_count": 58,
   "metadata": {},
   "outputs": [
    {
     "data": {
      "application/vnd.jupyter.widget-view+json": {
       "model_id": "c9d0e6f295c54086aa428ffd69f49ac7",
       "version_major": 2,
       "version_minor": 0
      },
      "text/plain": [
       "interactive(children=(FloatSlider(value=1.0, description='Beta', max=5.0, min=0.1), FloatSlider(value=0.25, de…"
      ]
     },
     "metadata": {},
     "output_type": "display_data"
    },
    {
     "data": {
      "text/plain": [
       "<function __main__.wrapper_for_inter_discr(beta, gamma)>"
      ]
     },
     "execution_count": 58,
     "metadata": {},
     "output_type": "execute_result"
    }
   ],
   "source": [
    "interact(wrapper_for_inter_discr, beta=FloatSlider(value=1.0, min=0.1, max=5.0, step=0.1, description='Beta'),\n",
    "         gamma=FloatSlider(value=0.25, min=0, max=1, step=0.025, description='Gamma'))"
   ]
  },
  {
   "cell_type": "code",
   "execution_count": 5,
   "metadata": {},
   "outputs": [
    {
     "data": {
      "image/png": "[encoded data removed]",
      "text/plain": [
       "<Figure size 640x480 with 1 Axes>"
      ]
     },
     "metadata": {},
     "output_type": "display_data"
    }
   ],
   "source": [
    "pop = 1000\n",
    "    \n",
    "I = 1\n",
    "R = 0\n",
    "S = pop - I - R\n",
    "t = 100\n",
    "beta = 100\n",
    "gamma = 0.125\n",
    "\n",
    "a = simplified_model_smaller_time_step(S, I, R, pop, t, beta, gamma)\n",
    "plot_sim(a)"
   ]
  }
 ],
 "metadata": {
  "kernelspec": {
   "display_name": "Python 3",
   "language": "python",
   "name": "python3"
  },
  "language_info": {
   "codemirror_mode": {
    "name": "ipython",
    "version": 3
   },
   "file_extension": ".py",
   "mimetype": "text/x-python",
   "name": "python",
   "nbconvert_exporter": "python",
   "pygments_lexer": "ipython3",
   "version": "3.12.9"
  }
 },
 "nbformat": 4,
 "nbformat_minor": 2
}
