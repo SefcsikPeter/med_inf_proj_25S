{
 "cells": [
  {
   "cell_type": "code",
   "execution_count": 139,
   "metadata": {},
   "outputs": [],
   "source": [
    "import epispot as epi"
   ]
  },
  {
   "cell_type": "code",
   "execution_count": 140,
   "metadata": {},
   "outputs": [],
   "source": [
    "def place(t): return 0.25\n",
    "def N(t): return 1e6\n",
    "def R_0(t): return 2.5\n",
    "def inf_to_hos(t): return 0.5\n",
    "def inf_to_rec(t): return 0.5\n",
    "def hos_to_dead(t): return 0.5\n",
    "def hos_to_rec(t): return 0.5"
   ]
  },
  {
   "cell_type": "code",
   "execution_count": 141,
   "metadata": {},
   "outputs": [],
   "source": [
    "class CustomInfected(epi.comps.Infected):\n",
    "    def get_deriv(self, time, system):\n",
    "        \"\"\"\n",
    "        Derivative of the Critical compartment\n",
    "\n",
    "        :param time: time to take derivative at\n",
    "        :param system: system of all states\n",
    "        :return: derivative\n",
    "        \"\"\"\n",
    "\n",
    "        derivative = 0\n",
    "\n",
    "        if self.p_recovery:\n",
    "            derivative -= self.p_recovery(time) * self.recovery_rate(time) * system[self.layer_index]\n",
    "\n",
    "        return derivative"
   ]
  },
  {
   "cell_type": "code",
   "execution_count": 142,
   "metadata": {},
   "outputs": [],
   "source": [
    "Susceptible = epi.comps.Susceptible(layer_index=0, R_0=R_0, gamma=place, N=N)\n",
    "\n",
    "Infected = CustomInfected(layer_index=1, N=N, R_0=R_0, gamma=place,\n",
    "                              recovery_rate=place, p_recovery=inf_to_rec,\n",
    "                              p_hospitalized=None, hospital_rate=None)\n",
    "\n",
    "Recovered = epi.comps.Recovered(layer_index=2, p_from_inf=inf_to_rec,\n",
    "                                from_inf_rate=place, p_from_hos=None,\n",
    "                                from_hos_rate=None)"
   ]
  },
  {
   "cell_type": "code",
   "execution_count": null,
   "metadata": {},
   "outputs": [
    {
     "ename": "TypeError",
     "evalue": "Model.__init__() missing 1 required positional argument: 'init_pop'",
     "output_type": "error",
     "traceback": [
      "\u001b[31m---------------------------------------------------------------------------\u001b[39m",
      "\u001b[31mTypeError\u001b[39m                                 Traceback (most recent call last)",
      "\u001b[36mCell\u001b[39m\u001b[36m \u001b[39m\u001b[32mIn[143]\u001b[39m\u001b[32m, line 1\u001b[39m\n\u001b[32m----> \u001b[39m\u001b[32m1\u001b[39m SIHRD_Model = \u001b[43mepi\u001b[49m\u001b[43m.\u001b[49m\u001b[43mmodels\u001b[49m\u001b[43m.\u001b[49m\u001b[43mModel\u001b[49m\u001b[43m(\u001b[49m\u001b[43m)\u001b[49m\n\u001b[32m      2\u001b[39m SIHRD_Model.add_layer(layer=Susceptible, layer_name=\u001b[33m'\u001b[39m\u001b[33mSusceptible\u001b[39m\u001b[33m'\u001b[39m, layer_map=[Infected])\n\u001b[32m      3\u001b[39m SIHRD_Model.add_layer(layer=Infected, layer_name=\u001b[33m'\u001b[39m\u001b[33mInfected\u001b[39m\u001b[33m'\u001b[39m, layer_map=[Recovered])\n",
      "\u001b[31mTypeError\u001b[39m: Model.__init__() missing 1 required positional argument: 'init_pop'"
     ]
    }
   ],
   "source": [
    "SIHRD_Model = epi.models.Model(init_pop=)\n",
    "SIHRD_Model.add_layer(layer=Susceptible, layer_name='Susceptible', layer_map=[Infected])\n",
    "SIHRD_Model.add_layer(layer=Infected, layer_name='Infected', layer_map=[Recovered])\n",
    "SIHRD_Model.add_layer(layer=Recovered, layer_name='Recovered', layer_map=[])"
   ]
  },
  {
   "cell_type": "code",
   "execution_count": null,
   "metadata": {},
   "outputs": [
    {
     "ename": "TypeError",
     "evalue": "unsupported operand type(s) for -: 'list' and 'int'",
     "output_type": "error",
     "traceback": [
      "\u001b[31m---------------------------------------------------------------------------\u001b[39m",
      "\u001b[31mTypeError\u001b[39m                                 Traceback (most recent call last)",
      "\u001b[36mCell\u001b[39m\u001b[36m \u001b[39m\u001b[32mIn[138]\u001b[39m\u001b[32m, line 1\u001b[39m\n\u001b[32m----> \u001b[39m\u001b[32m1\u001b[39m Plot = \u001b[43mepi\u001b[49m\u001b[43m.\u001b[49m\u001b[43mplots\u001b[49m\u001b[43m.\u001b[49m\u001b[43mplot_comp_nums\u001b[49m\u001b[43m(\u001b[49m\u001b[43mSIHRD_Model\u001b[49m\u001b[43m,\u001b[49m\u001b[43m \u001b[49m\u001b[38;5;28;43mrange\u001b[39;49m\u001b[43m(\u001b[49m\u001b[32;43m100\u001b[39;49m\u001b[43m)\u001b[49m\u001b[43m)\u001b[49m\n\u001b[32m      2\u001b[39m \u001b[38;5;66;03m# Plot.show()  # uncomment for newer versions of epispot (>2.1.1)\u001b[39;00m\n",
      "\u001b[36mFile \u001b[39m\u001b[32mc:\\Users\\ptsef\\OneDrive\\Desktop\\MedInfProject\\med_proj\\Lib\\site-packages\\epispot\\plots.py:26\u001b[39m, in \u001b[36mplot_comp_nums\u001b[39m\u001b[34m(Model, timesteps, starting_state, seed)\u001b[39m\n\u001b[32m     15\u001b[39m \u001b[38;5;250m\u001b[39m\u001b[33;03m\"\"\"\u001b[39;00m\n\u001b[32m     16\u001b[39m \u001b[33;03mThis is meant for plotting the number of people in each compartment over a period of time\u001b[39;00m\n\u001b[32m     17\u001b[39m \n\u001b[32m   (...)\u001b[39m\u001b[32m     22\u001b[39m \u001b[33;03m:return: matplotlib plot\u001b[39;00m\n\u001b[32m     23\u001b[39m \u001b[33;03m\"\"\"\u001b[39;00m\n\u001b[32m     25\u001b[39m f, ax = plt.subplots(\u001b[32m1\u001b[39m, \u001b[32m1\u001b[39m, figsize=(\u001b[32m10\u001b[39m, \u001b[32m4\u001b[39m))\n\u001b[32m---> \u001b[39m\u001b[32m26\u001b[39m integral = \u001b[43mModel\u001b[49m\u001b[43m.\u001b[49m\u001b[43mintegrate\u001b[49m\u001b[43m(\u001b[49m\u001b[43mtimesteps\u001b[49m\u001b[43m,\u001b[49m\u001b[43m \u001b[49m\u001b[43mstarting_state\u001b[49m\u001b[43m=\u001b[49m\u001b[43mstarting_state\u001b[49m\u001b[43m)\u001b[49m\n\u001b[32m     27\u001b[39m compartments = []\n\u001b[32m     29\u001b[39m \u001b[38;5;28;01mfor\u001b[39;00m _ \u001b[38;5;129;01min\u001b[39;00m integral[\u001b[32m0\u001b[39m]:\n",
      "\u001b[36mFile \u001b[39m\u001b[32mc:\\Users\\ptsef\\OneDrive\\Desktop\\MedInfProject\\med_proj\\Lib\\site-packages\\epispot\\models.py:84\u001b[39m, in \u001b[36mModel.integrate\u001b[39m\u001b[34m(self, timesteps, starting_state)\u001b[39m\n\u001b[32m     81\u001b[39m     system = starting_state\n\u001b[32m     83\u001b[39m \u001b[38;5;28;01melse\u001b[39;00m:\n\u001b[32m---> \u001b[39m\u001b[32m84\u001b[39m     system = [\u001b[38;5;28;43mself\u001b[39;49m\u001b[43m.\u001b[49m\u001b[43minit_pop\u001b[49m\u001b[43m \u001b[49m\u001b[43m-\u001b[49m\u001b[43m \u001b[49m\u001b[32;43m1\u001b[39;49m, \u001b[32m1\u001b[39m]\n\u001b[32m     85\u001b[39m     \u001b[38;5;28;01mfor\u001b[39;00m _ \u001b[38;5;129;01min\u001b[39;00m \u001b[38;5;28mrange\u001b[39m(\u001b[32m0\u001b[39m, \u001b[38;5;28mlen\u001b[39m(\u001b[38;5;28mself\u001b[39m.layers) - \u001b[32m2\u001b[39m):\n\u001b[32m     86\u001b[39m         system.append(\u001b[32m0\u001b[39m)\n",
      "\u001b[31mTypeError\u001b[39m: unsupported operand type(s) for -: 'list' and 'int'"
     ]
    },
    {
     "data": {
      "image/png": "[encoded data removed]",
      "text/plain": [
       "<Figure size 1000x400 with 1 Axes>"
      ]
     },
     "metadata": {},
     "output_type": "display_data"
    }
   ],
   "source": [
    "Plot = epi.plots.plot_comp_nums(SIHRD_Model, range(100))\n",
    "# Plot.show()  # uncomment for newer versions of epispot (>2.1.1)"
   ]
  },
  {
   "cell_type": "code",
   "execution_count": 155,
   "metadata": {},
   "outputs": [
    {
     "ename": "KeyError",
     "evalue": "0",
     "output_type": "error",
     "traceback": [
      "\u001b[31m---------------------------------------------------------------------------\u001b[39m",
      "\u001b[31mKeyError\u001b[39m                                  Traceback (most recent call last)",
      "\u001b[36mCell\u001b[39m\u001b[36m \u001b[39m\u001b[32mIn[155]\u001b[39m\u001b[32m, line 16\u001b[39m\n\u001b[32m      9\u001b[39m SIR_MODEL.layer_map = {\n\u001b[32m     10\u001b[39m     \u001b[33m\"\u001b[39m\u001b[33mSusceptible\u001b[39m\u001b[33m\"\u001b[39m: \u001b[32m0\u001b[39m,\n\u001b[32m     11\u001b[39m     \u001b[33m\"\u001b[39m\u001b[33mInfected\u001b[39m\u001b[33m\"\u001b[39m: \u001b[32m1\u001b[39m,\n\u001b[32m     12\u001b[39m     \u001b[33m\"\u001b[39m\u001b[33mRecovered\u001b[39m\u001b[33m\"\u001b[39m: \u001b[32m2\u001b[39m\n\u001b[32m     13\u001b[39m }\n\u001b[32m     15\u001b[39m \u001b[38;5;66;03m# Now run the plot\u001b[39;00m\n\u001b[32m---> \u001b[39m\u001b[32m16\u001b[39m Plot = \u001b[43mepi\u001b[49m\u001b[43m.\u001b[49m\u001b[43mplots\u001b[49m\u001b[43m.\u001b[49m\u001b[43mplot_comp_nums\u001b[49m\u001b[43m(\u001b[49m\u001b[43mSIR_MODEL\u001b[49m\u001b[43m,\u001b[49m\u001b[43m \u001b[49m\u001b[38;5;28;43mrange\u001b[39;49m\u001b[43m(\u001b[49m\u001b[32;43m100\u001b[39;49m\u001b[43m)\u001b[49m\u001b[43m)\u001b[49m\n",
      "\u001b[36mFile \u001b[39m\u001b[32mc:\\Users\\ptsef\\OneDrive\\Desktop\\MedInfProject\\med_proj\\Lib\\site-packages\\epispot\\plots.py:26\u001b[39m, in \u001b[36mplot_comp_nums\u001b[39m\u001b[34m(Model, timesteps, starting_state, seed)\u001b[39m\n\u001b[32m     15\u001b[39m \u001b[38;5;250m\u001b[39m\u001b[33;03m\"\"\"\u001b[39;00m\n\u001b[32m     16\u001b[39m \u001b[33;03mThis is meant for plotting the number of people in each compartment over a period of time\u001b[39;00m\n\u001b[32m     17\u001b[39m \n\u001b[32m   (...)\u001b[39m\u001b[32m     22\u001b[39m \u001b[33;03m:return: matplotlib plot\u001b[39;00m\n\u001b[32m     23\u001b[39m \u001b[33;03m\"\"\"\u001b[39;00m\n\u001b[32m     25\u001b[39m f, ax = plt.subplots(\u001b[32m1\u001b[39m, \u001b[32m1\u001b[39m, figsize=(\u001b[32m10\u001b[39m, \u001b[32m4\u001b[39m))\n\u001b[32m---> \u001b[39m\u001b[32m26\u001b[39m integral = \u001b[43mModel\u001b[49m\u001b[43m.\u001b[49m\u001b[43mintegrate\u001b[49m\u001b[43m(\u001b[49m\u001b[43mtimesteps\u001b[49m\u001b[43m,\u001b[49m\u001b[43m \u001b[49m\u001b[43mstarting_state\u001b[49m\u001b[43m=\u001b[49m\u001b[43mstarting_state\u001b[49m\u001b[43m)\u001b[49m\n\u001b[32m     27\u001b[39m compartments = []\n\u001b[32m     29\u001b[39m \u001b[38;5;28;01mfor\u001b[39;00m _ \u001b[38;5;129;01min\u001b[39;00m integral[\u001b[32m0\u001b[39m]:\n",
      "\u001b[36mFile \u001b[39m\u001b[32mc:\\Users\\ptsef\\OneDrive\\Desktop\\MedInfProject\\med_proj\\Lib\\site-packages\\epispot\\models.py:90\u001b[39m, in \u001b[36mModel.integrate\u001b[39m\u001b[34m(self, timesteps, starting_state)\u001b[39m\n\u001b[32m     88\u001b[39m \u001b[38;5;66;03m# test the `get_deriv` method for any errors and setup any commonly used variables\u001b[39;00m\n\u001b[32m     89\u001b[39m \u001b[38;5;28;01mfor\u001b[39;00m layer \u001b[38;5;129;01min\u001b[39;00m \u001b[38;5;28mrange\u001b[39m(\u001b[38;5;28mlen\u001b[39m(\u001b[38;5;28mself\u001b[39m.layers)):\n\u001b[32m---> \u001b[39m\u001b[32m90\u001b[39m     \u001b[38;5;28;43mself\u001b[39;49m\u001b[43m.\u001b[49m\u001b[43mlayers\u001b[49m\u001b[43m[\u001b[49m\u001b[43mlayer\u001b[49m\u001b[43m]\u001b[49m\u001b[43m.\u001b[49m\u001b[43mtest\u001b[49m\u001b[43m(\u001b[49m\u001b[38;5;28;43mself\u001b[39;49m\u001b[43m.\u001b[49m\u001b[43mlayer_map\u001b[49m\u001b[43m,\u001b[49m\u001b[43m \u001b[49m\u001b[38;5;28;43mself\u001b[39;49m\u001b[43m.\u001b[49m\u001b[43mlayer_names\u001b[49m\u001b[43m)\u001b[49m\n\u001b[32m     92\u001b[39m \u001b[38;5;28;01mfor\u001b[39;00m timestep \u001b[38;5;129;01min\u001b[39;00m timesteps:\n\u001b[32m     93\u001b[39m     derivatives = \u001b[38;5;28mself\u001b[39m.get_deriv(timestep, system)\n",
      "\u001b[36mFile \u001b[39m\u001b[32mc:\\Users\\ptsef\\OneDrive\\Desktop\\MedInfProject\\med_proj\\Lib\\site-packages\\epispot\\comps.py:94\u001b[39m, in \u001b[36mSusceptible.test\u001b[39m\u001b[34m(self, layer_map, layer_names)\u001b[39m\n\u001b[32m     91\u001b[39m         \u001b[38;5;28mself\u001b[39m.infected_category_indices.append(i)\n\u001b[32m     93\u001b[39m \u001b[38;5;28;01mfor\u001b[39;00m layer_no \u001b[38;5;129;01min\u001b[39;00m \u001b[38;5;28mrange\u001b[39m(\u001b[38;5;28mlen\u001b[39m(layer_map)):\n\u001b[32m---> \u001b[39m\u001b[32m94\u001b[39m     \u001b[38;5;28;01mfor\u001b[39;00m next_layer \u001b[38;5;129;01min\u001b[39;00m \u001b[43mlayer_map\u001b[49m\u001b[43m[\u001b[49m\u001b[43mlayer_no\u001b[49m\u001b[43m]\u001b[49m:\n\u001b[32m     95\u001b[39m         \u001b[38;5;28;01mif\u001b[39;00m next_layer.get_layer_index() == \u001b[38;5;28mself\u001b[39m.layer_index:\n\u001b[32m     96\u001b[39m             \u001b[38;5;28mself\u001b[39m.first_layer = \u001b[38;5;28;01mFalse\u001b[39;00m\n",
      "\u001b[31mKeyError\u001b[39m: 0"
     ]
    },
    {
     "data": {
      "image/png": "[encoded data removed]",
      "text/plain": [
       "<Figure size 1000x400 with 1 Axes>"
      ]
     },
     "metadata": {},
     "output_type": "display_data"
    }
   ],
   "source": [
    "SIR_MODEL = epi.models.Model(init_pop=100, layers=[\n",
    "    epi.comps.Susceptible(layer_index=0, R_0=2.5, gamma=0.125, N=100),\n",
    "    epi.comps.Infected(layer_index=1, N=100),\n",
    "    epi.comps.Recovered(layer_index=1)\n",
    "])\n",
    "\n",
    "# Manually define layer names and layer map (usually required by epispot)\n",
    "SIR_MODEL.layer_names = [\"Susceptible\", \"Infected\", \"Recovered\"]\n",
    "SIR_MODEL.layer_map = {\n",
    "    \"Susceptible\": 0,\n",
    "    \"Infected\": 1,\n",
    "    \"Recovered\": 2\n",
    "}\n",
    "\n",
    "# Now run the plot\n",
    "Plot = epi.plots.plot_comp_nums(SIR_MODEL, range(100))\n"
   ]
  }
 ],
 "metadata": {
  "kernelspec": {
   "display_name": "Python 3",
   "language": "python",
   "name": "python3"
  },
  "language_info": {
   "codemirror_mode": {
    "name": "ipython",
    "version": 3
   },
   "file_extension": ".py",
   "mimetype": "text/x-python",
   "name": "python",
   "nbconvert_exporter": "python",
   "pygments_lexer": "ipython3",
   "version": "3.12.9"
  }
 },
 "nbformat": 4,
 "nbformat_minor": 2
}
