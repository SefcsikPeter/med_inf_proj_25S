{
 "cells": [
  {
   "cell_type": "code",
   "execution_count": null,
   "metadata": {},
   "outputs": [],
   "source": [
    "from epimodels.continuous.models import SIR\n",
    "from epimodels.discrete.models import SIR as SIRc\n",
    "import matplotlib.pyplot as plt\n",
    "from ipywidgets import interact, FloatSlider, IntSlider"
   ]
  },
  {
   "cell_type": "code",
   "execution_count": 68,
   "metadata": {},
   "outputs": [],
   "source": [
    "def plot_gossip(a):\n",
    "    S, I, R = a.y\n",
    "    t = a.t\n",
    "\n",
    "    plt.plot(t, S, label=\"People who haven't heard yet\")\n",
    "    plt.plot(t, I, label=\"People who heard the gossip\")\n",
    "    plt.xlabel(\"Days passed\")\n",
    "    plt.ylabel(\"People in your school\")\n",
    "    plt.legend()\n",
    "    plt.title(\"Gossip Simulation\")\n",
    "    plt.grid(True)\n",
    "    plt.show()\n",
    "\n",
    "def plot_town(a):\n",
    "    S, I, R = a.y\n",
    "    t = a.t\n",
    "\n",
    "    plt.plot(t, S, label=\"Susceptible\")\n",
    "    plt.plot(t, I, label=\"Infected\")\n",
    "    plt.plot(t, R, label=\"Recovered\")\n",
    "    plt.xlabel(\"Days\")\n",
    "    plt.ylabel(\"Inhabitants\")\n",
    "    plt.legend()\n",
    "    plt.title(\"Town Simulation\")\n",
    "    plt.grid(True)\n",
    "    plt.show()"
   ]
  },
  {
   "cell_type": "code",
   "execution_count": 58,
   "metadata": {},
   "outputs": [
    {
     "data": {
      "application/vnd.jupyter.widget-view+json": {
       "model_id": "735452d048054e19a9b61ba1f371fe38",
       "version_major": 2,
       "version_minor": 0
      },
      "text/plain": [
       "interactive(children=(FloatSlider(value=1.0, description='People Told', max=5.0), Output()), _dom_classes=('wi…"
      ]
     },
     "metadata": {},
     "output_type": "display_data"
    },
    {
     "data": {
      "text/plain": [
       "<function __main__.gossip(beta)>"
      ]
     },
     "execution_count": 58,
     "metadata": {},
     "output_type": "execute_result"
    }
   ],
   "source": [
    "# SI model for gossip spreading\n",
    "\n",
    "def gossip(beta):\n",
    "    SI = SIR()\n",
    "    pop = 200\n",
    "    days = 10\n",
    "    I = 1\n",
    "    R = 0\n",
    "    S = pop - I -R\n",
    "    beta = beta\n",
    "    gamma = 0\n",
    "    SI([S, I, R], [0, days], pop, {'beta': beta, 'gamma': gamma})\n",
    "    a = SI.run([S, I, R], [0, days], pop, {'beta': beta, 'gamma': gamma})\n",
    "    plot_gossip(a)\n",
    "\n",
    "interact(gossip, beta=FloatSlider(value=1.0, min=0, max=5.0, step=0.1, description='People Told'))"
   ]
  },
  {
   "cell_type": "code",
   "execution_count": 70,
   "metadata": {},
   "outputs": [
    {
     "data": {
      "application/vnd.jupyter.widget-view+json": {
       "model_id": "1218545bf41d46979d236084ec91190e",
       "version_major": 2,
       "version_minor": 0
      },
      "text/plain": [
       "interactive(children=(FloatSlider(value=1.0, description='People Infected', max=5.0), IntSlider(value=8, descr…"
      ]
     },
     "metadata": {},
     "output_type": "display_data"
    },
    {
     "data": {
      "text/plain": [
       "<function __main__.sir_town(beta, days_to_recover)>"
      ]
     },
     "execution_count": 70,
     "metadata": {},
     "output_type": "execute_result"
    }
   ],
   "source": [
    "# SIR for town example\n",
    "\n",
    "def sir_town(beta, days_to_recover):\n",
    "    model = SIR()\n",
    "    pop = 1000\n",
    "    days = 30\n",
    "    I = 1\n",
    "    R = 0\n",
    "    S = pop - I - R\n",
    "    beta = beta\n",
    "    gamma = 1/days_to_recover\n",
    "    model([S, I, R], [0, days], pop, {'beta': beta, 'gamma': gamma})\n",
    "    a = model.run([S, I, R], [0, days], pop, {'beta': beta, 'gamma': gamma})\n",
    "    plot_town(a)\n",
    "\n",
    "interact(sir_town, beta=FloatSlider(value=1.0, min=0, max=5.0, step=0.1, description='People Infected'),\n",
    "         days_to_recover=IntSlider(value=8, min=1, max=16, step=1, description='Days to Recover'))"
   ]
  }
 ],
 "metadata": {
  "kernelspec": {
   "display_name": "Python 3",
   "language": "python",
   "name": "python3"
  },
  "language_info": {
   "codemirror_mode": {
    "name": "ipython",
    "version": 3
   },
   "file_extension": ".py",
   "mimetype": "text/x-python",
   "name": "python",
   "nbconvert_exporter": "python",
   "pygments_lexer": "ipython3",
   "version": "3.12.9"
  }
 },
 "nbformat": 4,
 "nbformat_minor": 2
}
